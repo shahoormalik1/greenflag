{
 "cells": [
  {
   "cell_type": "code",
   "execution_count": 1,
   "metadata": {},
   "outputs": [],
   "source": [
    "import pandas as pd\n",
    "import pyarrow\n"
   ]
  },
  {
   "cell_type": "code",
   "execution_count": 23,
   "metadata": {},
   "outputs": [],
   "source": [
    "# Use pandas to read csv and combine weather data for both months\n",
    "\n",
    "df_feb = pd.read_csv(r'C:\\Users\\shaho\\Downloads\\Data Engineer Test\\weather.20160201.csv')\n",
    "df_mar = pd.read_csv(r'C:\\Users\\shaho\\Downloads\\Data Engineer Test\\weather.20160301.csv')\n",
    "\n",
    "df_all = pd.concat([df_feb, df_mar], ignore_index=True)\n"
   ]
  },
  {
   "cell_type": "code",
   "execution_count": 24,
   "metadata": {},
   "outputs": [],
   "source": [
    "# Convert & Export as Parquet File, this bit relies on the pyarrow lib\n",
    "\n",
    "# Instead of querying / analysing directly from pandas, convert to Parquest as per request\n",
    "\n",
    "df_all.to_parquet('weather_data.parquet')\n"
   ]
  },
  {
   "cell_type": "code",
   "execution_count": 25,
   "metadata": {},
   "outputs": [],
   "source": [
    "from pyspark.sql import SparkSession\n",
    "\n",
    "# initialise sparkContext\n",
    "\n",
    "spark = SparkSession.builder \\\n",
    "    .master('local') \\\n",
    "    .appName('GF_Test') \\\n",
    "    .config('spark.executor.memory', '5gb') \\\n",
    "    .config(\"spark.cores.max\", \"6\") \\\n",
    "    .getOrCreate()\n",
    "\n",
    "sc = spark.sparkContext\n",
    "\n",
    "# using SQLContext to read parquet file\n",
    "\n",
    "from pyspark.sql import SQLContext\n",
    "sqlContext = SQLContext(sc)\n",
    "\n",
    "# to read parquet file\n",
    "\n",
    "df = sqlContext.read.parquet('weather_data.parquet')"
   ]
  },
  {
   "cell_type": "code",
   "execution_count": 27,
   "metadata": {},
   "outputs": [
    {
     "data": {
      "text/plain": [
       "['ForecastSiteCode',\n",
       " 'ObservationTime',\n",
       " 'ObservationDate',\n",
       " 'WindDirection',\n",
       " 'WindSpeed',\n",
       " 'WindGust',\n",
       " 'Visibility',\n",
       " 'ScreenTemperature',\n",
       " 'Pressure',\n",
       " 'SignificantWeatherCode',\n",
       " 'SiteName',\n",
       " 'Latitude',\n",
       " 'Longitude',\n",
       " 'Region',\n",
       " 'Country']"
      ]
     },
     "execution_count": 27,
     "metadata": {},
     "output_type": "execute_result"
    }
   ],
   "source": [
    "# Checking columns\n",
    "\n",
    "df.columns"
   ]
  },
  {
   "cell_type": "code",
   "execution_count": 28,
   "metadata": {},
   "outputs": [],
   "source": [
    "# Temp view to query with SQL\n",
    "\n",
    "df.createOrReplaceTempView(\"weather\")"
   ]
  },
  {
   "cell_type": "code",
   "execution_count": 32,
   "metadata": {},
   "outputs": [
    {
     "name": "stdout",
     "output_type": "stream",
     "text": [
      "+-------------------+-----------------+--------------------+\n",
      "|    ObservationDate|ScreenTemperature|              Region|\n",
      "+-------------------+-----------------+--------------------+\n",
      "|2016-03-17T00:00:00|             15.8|Highland & Eilean...|\n",
      "+-------------------+-----------------+--------------------+\n",
      "\n"
     ]
    }
   ],
   "source": [
    "# Get highest temparature showing date, temp and Region\n",
    "\n",
    "\n",
    "spark.sql('select ObservationDate, ScreenTemperature, Region from weather order by ScreenTemperature desc limit 1 ').show()"
   ]
  }
 ],
 "metadata": {
  "kernelspec": {
   "display_name": "Python 3",
   "language": "python",
   "name": "python3"
  },
  "language_info": {
   "codemirror_mode": {
    "name": "ipython",
    "version": 3
   },
   "file_extension": ".py",
   "mimetype": "text/x-python",
   "name": "python",
   "nbconvert_exporter": "python",
   "pygments_lexer": "ipython3",
   "version": "3.6.8"
  },
  "varInspector": {
   "cols": {
    "lenName": 16,
    "lenType": 16,
    "lenVar": 40
   },
   "kernels_config": {
    "python": {
     "delete_cmd_postfix": "",
     "delete_cmd_prefix": "del ",
     "library": "var_list.py",
     "varRefreshCmd": "print(var_dic_list())"
    },
    "r": {
     "delete_cmd_postfix": ") ",
     "delete_cmd_prefix": "rm(",
     "library": "var_list.r",
     "varRefreshCmd": "cat(var_dic_list()) "
    }
   },
   "types_to_exclude": [
    "module",
    "function",
    "builtin_function_or_method",
    "instance",
    "_Feature"
   ],
   "window_display": false
  }
 },
 "nbformat": 4,
 "nbformat_minor": 4
}
